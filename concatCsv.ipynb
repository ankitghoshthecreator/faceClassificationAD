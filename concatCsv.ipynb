{
 "cells": [
  {
   "cell_type": "code",
   "execution_count": 2,
   "id": "7edf725e-e0db-4309-9126-ef886bed7706",
   "metadata": {},
   "outputs": [
    {
     "name": "stdout",
     "output_type": "stream",
     "text": [
      "✅ Combined CSV saved as 'combinedcsv.csv' with duplicates removed.\n"
     ]
    }
   ],
   "source": [
    "import pandas as pd\n",
    "\n",
    "# File paths\n",
    "a = \"face_dataset.csv\"\n",
    "b = \"face_dataset1.csv\"\n",
    "\n",
    "# Read CSVs\n",
    "df1 = pd.read_csv(a)\n",
    "df2 = pd.read_csv(b)\n",
    "\n",
    "\n",
    "# Concatenate\n",
    "combined_df = pd.concat([df1, df2], ignore_index=True)\n",
    "\n",
    "# Remove exact duplicate rows\n",
    "combined_df.drop_duplicates(inplace=True)\n",
    "\n",
    "# Save as new file\n",
    "combined_df.to_csv(\"combinedcsv.csv\", index=False)\n",
    "\n",
    "print(\"✅ Combined CSV saved as 'combinedcsv.csv' with duplicates removed.\")\n"
   ]
  },
  {
   "cell_type": "code",
   "execution_count": null,
   "id": "799f66bb-d25c-47cd-a136-bddb375bc508",
   "metadata": {},
   "outputs": [],
   "source": []
  }
 ],
 "metadata": {
  "kernelspec": {
   "display_name": "Python 3 (ipykernel)",
   "language": "python",
   "name": "python3"
  },
  "language_info": {
   "codemirror_mode": {
    "name": "ipython",
    "version": 3
   },
   "file_extension": ".py",
   "mimetype": "text/x-python",
   "name": "python",
   "nbconvert_exporter": "python",
   "pygments_lexer": "ipython3",
   "version": "3.9.13"
  }
 },
 "nbformat": 4,
 "nbformat_minor": 5
}
