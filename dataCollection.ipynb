{
 "cells": [
  {
   "cell_type": "code",
   "execution_count": 5,
   "id": "6f867f4b-cfa3-4db7-b5f3-03ff4bb4bb42",
   "metadata": {},
   "outputs": [],
   "source": [
    "#!pip install opencv-python numpy pandas facenet-pytorch torch torchvision onnxruntime"
   ]
  },
  {
   "cell_type": "code",
   "execution_count": 2,
   "id": "3f71c346-bd09-456a-9fdb-50e57a824355",
   "metadata": {},
   "outputs": [],
   "source": [
    "import cv2\n",
    "import numpy as np\n",
    "import pandas as pd\n",
    "from facenet_pytorch import MTCNN\n",
    "import os\n",
    "import torch\n",
    "from datetime import datetime\n",
    "import torchvision.transforms as transforms\n",
    "\n",
    "\n",
    "# Initialize face detector\n",
    "mtcnn = MTCNN(keep_all=False)  # Only 1 face at a time\n",
    "\n",
    "# Output CSV file\n",
    "CSV_FILE = 'face_dataset1.csv'\n",
    "\n",
    "# Create CSV if not exists\n",
    "if not os.path.exists(CSV_FILE):\n",
    "    df = pd.DataFrame(columns=[\"name\"] + [f\"emb_{i}\" for i in range(128)])\n",
    "    df.to_csv(CSV_FILE, index=False)\n"
   ]
  },
  {
   "cell_type": "code",
   "execution_count": 3,
   "id": "3b76e53e-1b2f-4e75-b040-f853fa74b663",
   "metadata": {},
   "outputs": [
    {
     "name": "stdin",
     "output_type": "stream",
     "text": [
      "Enter the person's name:  ag\n"
     ]
    },
    {
     "ename": "NameError",
     "evalue": "name 'model' is not defined",
     "output_type": "error",
     "traceback": [
      "\u001b[1;31m---------------------------------------------------------------------------\u001b[0m",
      "\u001b[1;31mNameError\u001b[0m                                 Traceback (most recent call last)",
      "Cell \u001b[1;32mIn[3], line 33\u001b[0m\n\u001b[0;32m     31\u001b[0m face_tensor \u001b[38;5;241m=\u001b[39m face_tensor\u001b[38;5;241m.\u001b[39mfloat()  \n\u001b[0;32m     32\u001b[0m \u001b[38;5;28;01mwith\u001b[39;00m torch\u001b[38;5;241m.\u001b[39mno_grad():\n\u001b[1;32m---> 33\u001b[0m     embedding \u001b[38;5;241m=\u001b[39m \u001b[43mmodel\u001b[49m(face_tensor)\u001b[38;5;241m.\u001b[39msqueeze()\u001b[38;5;241m.\u001b[39mnumpy()\n\u001b[0;32m     37\u001b[0m row \u001b[38;5;241m=\u001b[39m [name] \u001b[38;5;241m+\u001b[39m embedding\u001b[38;5;241m.\u001b[39mtolist()\n\u001b[0;32m     38\u001b[0m pd\u001b[38;5;241m.\u001b[39mDataFrame([row])\u001b[38;5;241m.\u001b[39mto_csv(CSV_FILE, mode\u001b[38;5;241m=\u001b[39m\u001b[38;5;124m'\u001b[39m\u001b[38;5;124ma\u001b[39m\u001b[38;5;124m'\u001b[39m, index\u001b[38;5;241m=\u001b[39m\u001b[38;5;28;01mFalse\u001b[39;00m, header\u001b[38;5;241m=\u001b[39m\u001b[38;5;28;01mFalse\u001b[39;00m)\n",
      "\u001b[1;31mNameError\u001b[0m: name 'model' is not defined"
     ]
    }
   ],
   "source": [
    "name = input(\"Enter the person's name: \")\n",
    "cap = cv2.VideoCapture(0)\n",
    "\n",
    "count = 0\n",
    "MAX_SAMPLES = 10\n",
    "\n",
    "while count < MAX_SAMPLES:\n",
    "    ret, frame = cap.read()\n",
    "    if not ret:\n",
    "        break\n",
    "\n",
    "    img = cv2.cvtColor(frame, cv2.COLOR_BGR2RGB)\n",
    "    boxes, probs = mtcnn.detect(img)\n",
    "\n",
    "    if boxes is not None:\n",
    "        box = boxes[0]  # Only first face\n",
    "        x1, y1, x2, y2 = [int(v) for v in box]\n",
    "        face = img[y1:y2, x1:x2]\n",
    "        if face.size == 0:\n",
    "            continue\n",
    "        face = cv2.resize(face, (112, 112))\n",
    "\n",
    "        cv2.rectangle(frame, (x1, y1), (x2, y2), (0,255,0), 2)\n",
    "        cv2.imshow(\"Face\", cv2.cvtColor(face, cv2.COLOR_RGB2BGR))\n",
    "\n",
    "    cv2.imshow(\"Webcam\", frame)\n",
    "    key = cv2.waitKey(1)\n",
    "\n",
    "    if key & 0xFF == ord('c') and boxes is not None:\n",
    "        face_tensor = transforms.ToTensor()(face).unsqueeze(0) \n",
    "        face_tensor = face_tensor.float()  \n",
    "        with torch.no_grad():\n",
    "            embedding = model(face_tensor).squeeze().numpy()\n",
    "\n",
    "\n",
    "        \n",
    "        row = [name] + embedding.tolist()\n",
    "        pd.DataFrame([row]).to_csv(CSV_FILE, mode='a', index=False, header=False)\n",
    "        count += 1\n",
    "        print(f\"[{count}] Sample captured for {name}\")\n",
    "\n",
    "    elif key & 0xFF == ord('q'):\n",
    "        print(\"Exit requested.\")\n",
    "        break\n",
    "\n",
    "cap.release()\n",
    "cv2.destroyAllWindows()\n"
   ]
  },
  {
   "cell_type": "code",
   "execution_count": null,
   "id": "df61d622-861b-49bc-8a82-748be4d522cb",
   "metadata": {},
   "outputs": [],
   "source": []
  },
  {
   "cell_type": "code",
   "execution_count": null,
   "id": "c9b9d453-0ce9-463d-8705-aae8515effa3",
   "metadata": {},
   "outputs": [],
   "source": []
  }
 ],
 "metadata": {
  "kernelspec": {
   "display_name": "Python 3 (ipykernel)",
   "language": "python",
   "name": "python3"
  },
  "language_info": {
   "codemirror_mode": {
    "name": "ipython",
    "version": 3
   },
   "file_extension": ".py",
   "mimetype": "text/x-python",
   "name": "python",
   "nbconvert_exporter": "python",
   "pygments_lexer": "ipython3",
   "version": "3.9.13"
  }
 },
 "nbformat": 4,
 "nbformat_minor": 5
}
